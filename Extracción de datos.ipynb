{
 "cells": [
  {
   "cell_type": "markdown",
   "metadata": {},
   "source": [
    "# Algoritmo para obtener enlaces"
   ]
  },
  {
   "cell_type": "code",
   "execution_count": 3,
   "metadata": {},
   "outputs": [],
   "source": [
    "import requests\n",
    "from bs4 import BeautifulSoup\n",
    "import time"
   ]
  },
  {
   "cell_type": "code",
   "execution_count": 15,
   "metadata": {},
   "outputs": [
    {
     "name": "stdout",
     "output_type": "stream",
     "text": [
      "0\n",
      "1\n",
      "2\n",
      "3\n",
      "4\n",
      "5\n",
      "6\n",
      "7\n",
      "8\n",
      "9\n",
      "10\n",
      "11\n",
      "12\n",
      "13\n",
      "14\n",
      "15\n",
      "16\n",
      "17\n",
      "18\n",
      "19\n",
      "20\n",
      "21\n",
      "22\n",
      "23\n",
      "24\n",
      "25\n",
      "26\n",
      "27\n",
      "28\n",
      "29\n",
      "30\n",
      "31\n",
      "32\n",
      "33\n",
      "34\n",
      "35\n",
      "36\n",
      "37\n",
      "38\n",
      "39\n",
      "40\n",
      "41\n",
      "42\n",
      "43\n",
      "44\n",
      "45\n",
      "46\n",
      "47\n",
      "48\n",
      "49\n",
      "50\n",
      "51\n",
      "52\n",
      "53\n",
      "54\n",
      "55\n",
      "56\n",
      "57\n",
      "58\n",
      "59\n",
      "60\n",
      "61\n",
      "62\n",
      "63\n",
      "64\n",
      "65\n",
      "66\n",
      "67\n",
      "68\n",
      "69\n",
      "70\n",
      "71\n",
      "72\n",
      "73\n",
      "74\n",
      "75\n",
      "76\n",
      "77\n",
      "78\n",
      "79\n",
      "80\n",
      "81\n",
      "82\n",
      "83\n",
      "84\n",
      "85\n",
      "86\n",
      "87\n",
      "88\n",
      "89\n",
      "90\n",
      "91\n",
      "92\n",
      "93\n",
      "94\n",
      "95\n",
      "96\n",
      "97\n",
      "98\n",
      "99\n",
      "1118\n"
     ]
    }
   ],
   "source": [
    "feed_url = 'https://es.investing.com/crypto/bitcoin/news/'\n",
    "base = 'https://es.investing.com/'\n",
    "links = []\n",
    "for i in range(100):\n",
    "    print(i)\n",
    "    page_news = requests.get(feed_url + str(i))\n",
    "    soup_page = BeautifulSoup(page_news.text)\n",
    "    news_feed = soup_page.find('div', {'class': ['js-content-wrapper'], 'data-category':['news']})\n",
    "    for a in news_feed.find_all('a', {'class':['img']}):\n",
    "        time.sleep(2)\n",
    "        if str(a['href']).find('https:') == -1:\n",
    "            try:\n",
    "                new_url = base + a['href']\n",
    "                new_page = requests.get(new_url)\n",
    "                sub_soup_page = BeautifulSoup(new_page.text)\n",
    "                time_div = sub_soup_page.find('div',{'class':['contentSectionDetails']})\n",
    "                span = time_div.find('span').getText()\n",
    "                sub_a = sub_soup_page.find_all('a',{'rel':['nofollow']})\n",
    "                for tag in sub_a:\n",
    "                    if 'cointelegraph' in tag['href']:\n",
    "                        links.append([tag['href'], span])\n",
    "                        break\n",
    "            except Exception as e:\n",
    "                print(e)\n",
    "print(len(links))"
   ]
  },
  {
   "cell_type": "code",
   "execution_count": 16,
   "metadata": {},
   "outputs": [],
   "source": [
    "import pandas as pd\n",
    "data1, data2 = [], []\n",
    "for new in links:\n",
    "    data1.append(new[0])\n",
    "    data2.append(new[1])\n",
    "data_save = pd.DataFrame({\n",
    "    'url': data1,\n",
    "    'fecha': data2\n",
    "})\n",
    "data_save.to_csv('salvado.csv')"
   ]
  },
  {
   "cell_type": "markdown",
   "metadata": {},
   "source": [
    "# Algoritmo para obtener texto de cada enlace"
   ]
  },
  {
   "cell_type": "code",
   "execution_count": 2,
   "metadata": {},
   "outputs": [],
   "source": [
    "from boilerpy3 import extractors\n",
    "extractor = extractors.ArticleExtractor()\n",
    "\n",
    "def read_content_from_url(news_url):\n",
    "    doc = extractor.get_doc_from_url(news_url)\n",
    "    content = doc.content\n",
    "    title = doc.title\n",
    "    return content,title"
   ]
  },
  {
   "cell_type": "code",
   "execution_count": 28,
   "metadata": {},
   "outputs": [
    {
     "name": "stdout",
     "output_type": "stream",
     "text": [
      "45 HTTP Error 404: Not Found\n",
      "En enlace: https://es.cointelegraph.com/news/panama-hosted-update-discussions-and-use-cases-on-bitcoin-blockchain-and-cryptocurrencies\n",
      "71 HTTP Error 404: Not Found\n",
      "En enlace: https://es.cointelegraph.com/news/global-gpu-price-drops-to-compensate-for-falling-bitcoin-mining-revenue\n",
      "84 HTTP Error 404: Not Found\n",
      "En enlace: https://es.cointelegraph.com/news/reddit-announces-new-blockchain-backed-collectible-avatars\n",
      "106 HTTP Error 404: Not Found\n",
      "En enlace: https://es.cointelegraph.com/news/bitcoin-mining-stocks-rebound-sharply-despite-a-70-drop-in-btc-miners-revenue\n",
      "169 HTTP Error 404: Not Found\n",
      "En enlace: https://es.cointelegraph.com/news/bitcoin-price-drops-3-to-ten-day-lows-as-ethereum-inches-close-to-1k\n",
      "185 HTTP Error 404: Not Found\n",
      "En enlace: https://es.cointelegraph.com/news/bitcoin-miner-mawson-to-defer-all-major-capital-expenditures-until-market-conditions-normalize\n",
      "198 HTTP Error 404: Not Found\n",
      "En enlace: https://es.cointelegraph.com/news/crypto-is-just-like-the-end-of-the-90s-with-the-internet-bubble-says-hodl-ceo-maurice-mureau\n",
      "225 HTTP Error 404: Not Found\n",
      "En enlace: https://es.cointelegraph.com/news/buy-bitcoin-or-start-mining-hashworks-ceo-points-to-attractive-investment-yield-in-btc-mining\n",
      "228 HTTP Error 404: Not Found\n",
      "En enlace: https://es.cointelegraph.com/news/crickets-on-day-1-but-proshares-short-bitcoin-etf-volume-up-380-on-day-2\n",
      "239 HTTP Error 404: Not Found\n",
      "En enlace: https://es.cointelegraph.com/news/chainalysis-launches-reporting-service-for-businesses-targeted-in-crypto-related-cyberattacks\n",
      "248 HTTP Error 404: Not Found\n",
      "En enlace: https://es.cointelegraph.com/news/blockchain-isn-t-as-decentralized-as-you-think-defense-agency-report\n",
      "251 HTTP Error 404: Not Found\n",
      "En enlace: https://es.cointelegraph.com/news/aaron-olmos-venezuelan-economist-declared-that-the-original-use-of-bitcoin-is-distorted\n",
      "279 HTTP Error 404: Not Found\n",
      "En enlace: https://es.cointelegraph.com/news/worst-quarter-ever-for-stocks-5-things-to-know-in-bitcoin-this-week\n",
      "291 HTTP Error 404: Not Found\n",
      "En enlace: https://es.cointelegraph.com/news/russia-seems-to-be-preparing-to-mine-bitcoin-with-flare-gas\n",
      "479 HTTP Error 404: Not Found\n",
      "En enlace: https://es.cointelegraph.com/news/chainlink-launches-price-feeds-on-solana-to-provide-data-to-defi-developers\n",
      "864 HTTP Error 502: Bad Gateway\n",
      "En enlace: https://es.cointelegraph.com/news/bitcoin-seems-to-still-be-in-the-fear-zone\n"
     ]
    }
   ],
   "source": [
    "dates, titles, contents, enlaces = [], [], [], []\n",
    "i = 0\n",
    "for new in links:\n",
    "    time.sleep(3)\n",
    "    try:\n",
    "        aux = read_content_from_url(new[0])\n",
    "\n",
    "        dates.append( new[1][:new[1].find(' ')] )\n",
    "        enlaces.append(new[0])\n",
    "\n",
    "        titles.append(aux[1])\n",
    "        contents.append(aux[0])\n",
    "        i += 1\n",
    "    except Exception as e:\n",
    "        print(i,e)\n",
    "        print('En enlace: {}'.format(new[0]))\n"
   ]
  },
  {
   "cell_type": "code",
   "execution_count": 29,
   "metadata": {},
   "outputs": [],
   "source": [
    "news_data = pd.DataFrame({\n",
    "    'Enlace': enlaces,\n",
    "    'Titulo': titles,\n",
    "    'Cuerpo': contents,\n",
    "    'Fecha': dates\n",
    "})\n",
    "news_data.to_csv('news_data.csv')"
   ]
  },
  {
   "cell_type": "markdown",
   "metadata": {},
   "source": [
    "# Recuperando información de enlaces faltantes"
   ]
  },
  {
   "cell_type": "code",
   "execution_count": 1,
   "metadata": {},
   "outputs": [],
   "source": [
    "faltantes_links = [\n",
    "    'https://es.cointelegraph.com/news/panama-hosted-update-discussions-and-use-cases-on-bitcoin-blockchain-and-cryptocurrencies',\n",
    "    'https://es.cointelegraph.com/news/global-gpu-price-drops-to-compensate-for-falling-bitcoin-mining-revenue',\n",
    "    'https://es.cointelegraph.com/news/reddit-announces-new-blockchain-backed-collectible-avatars',\n",
    "    'https://es.cointelegraph.com/news/bitcoin-mining-stocks-rebound-sharply-despite-a-70-drop-in-btc-miners-revenue',\n",
    "    'https://es.cointelegraph.com/news/bitcoin-price-drops-3-to-ten-day-lows-as-ethereum-inches-close-to-1k',\n",
    "    'https://es.cointelegraph.com/news/bitcoin-miner-mawson-to-defer-all-major-capital-expenditures-until-market-conditions-normalize',\n",
    "    'https://es.cointelegraph.com/news/crypto-is-just-like-the-end-of-the-90s-with-the-internet-bubble-says-hodl-ceo-maurice-mureau',\n",
    "    'https://es.cointelegraph.com/news/buy-bitcoin-or-start-mining-hashworks-ceo-points-to-attractive-investment-yield-in-btc-mining',\n",
    "    'https://es.cointelegraph.com/news/crickets-on-day-1-but-proshares-short-bitcoin-etf-volume-up-380-on-day-2',\n",
    "    'https://es.cointelegraph.com/news/chainalysis-launches-reporting-service-for-businesses-targeted-in-crypto-related-cyberattacks',\n",
    "    'https://es.cointelegraph.com/news/blockchain-isn-t-as-decentralized-as-you-think-defense-agency-report',\n",
    "    'https://es.cointelegraph.com/news/aaron-olmos-venezuelan-economist-declared-that-the-original-use-of-bitcoin-is-distorted',\n",
    "    'https://es.cointelegraph.com/news/worst-quarter-ever-for-stocks-5-things-to-know-in-bitcoin-this-week',\n",
    "    'https://es.cointelegraph.com/news/russia-seems-to-be-preparing-to-mine-bitcoin-with-flare-gas',\n",
    "    'https://es.cointelegraph.com/news/chainlink-launches-price-feeds-on-solana-to-provide-data-to-defi-developers',\n",
    "    'https://es.cointelegraph.com/news/bitcoin-seems-to-still-be-in-the-fear-zone'\n",
    "]\n",
    "faltantes_fechas = [\n",
    "    '12.07.2022',\n",
    "    '10.07.2022',\n",
    "    '08.07.2022',\n",
    "    '06.07.2022',\n",
    "    '30.06.2022',\n",
    "    '29.06.2022',\n",
    "    '28.06.2022',\n",
    "    '24.06.2022',\n",
    "    '23.06.2022',\n",
    "    '22.06.2022',\n",
    "    '22.06.2022',\n",
    "    '22.06.2022',\n",
    "    '20.06.2022',\n",
    "    '17.06.2022',\n",
    "    '30.05.2022',\n",
    "    '23.04.2022'\n",
    "]"
   ]
  },
  {
   "cell_type": "code",
   "execution_count": 5,
   "metadata": {},
   "outputs": [
    {
     "name": "stdout",
     "output_type": "stream",
     "text": [
      "2 HTTP Error 404: Not Found\n",
      "En enlace: https://es.cointelegraph.com/news/reddit-announces-new-blockchain-backed-collectible-avatars\n",
      "14 HTTP Error 404: Not Found\n",
      "En enlace: https://es.cointelegraph.com/news/chainlink-launches-price-feeds-on-solana-to-provide-data-to-defi-developers\n"
     ]
    }
   ],
   "source": [
    "dates, titles, contents, enlaces = [], [], [], []\n",
    "\n",
    "for i in range(len(faltantes_links)):\n",
    "    link_noticia = faltantes_links[i]\n",
    "    fecha = faltantes_fechas[i]\n",
    "    time.sleep(3)\n",
    "    try:\n",
    "        aux = read_content_from_url(link_noticia)\n",
    "\n",
    "        dates.append(fecha)\n",
    "        enlaces.append(link_noticia)\n",
    "\n",
    "        titles.append(aux[1])\n",
    "        contents.append(aux[0])\n",
    "    except Exception as e:\n",
    "        print(i,e)\n",
    "        print('En enlace: {}'.format(link_noticia))"
   ]
  },
  {
   "cell_type": "code",
   "execution_count": null,
   "metadata": {},
   "outputs": [],
   "source": [
    "a = read_content_from_url('https://es.cointelegraph.com/news/reddit-announces-new-blockchain-backed-collectible-avatars')\n",
    "dates.append(faltantes_fechas[2])\n",
    "enlaces.append('https://es.cointelegraph.com/news/reddit-announces-new-blockchain-backed-collectible-avatars')\n",
    "titles.append(a[1])\n",
    "contents.append(a[0])"
   ]
  },
  {
   "cell_type": "code",
   "execution_count": 8,
   "metadata": {},
   "outputs": [
    {
     "ename": "HTTPError",
     "evalue": "HTTP Error 404: Not Found",
     "output_type": "error",
     "traceback": [
      "\u001b[1;31m---------------------------------------------------------------------------\u001b[0m",
      "\u001b[1;31mHTTPError\u001b[0m                                 Traceback (most recent call last)",
      "\u001b[1;32m<ipython-input-8-fad3d9482e02>\u001b[0m in \u001b[0;36m<module>\u001b[1;34m\u001b[0m\n\u001b[1;32m----> 1\u001b[1;33m \u001b[0mb\u001b[0m \u001b[1;33m=\u001b[0m \u001b[0mread_content_from_url\u001b[0m\u001b[1;33m(\u001b[0m\u001b[1;34m'https://es.cointelegraph.com/news/chainlink-launches-price-feeds-on-solana-to-provide-data-to-defi-developers'\u001b[0m\u001b[1;33m)\u001b[0m\u001b[1;33m\u001b[0m\u001b[1;33m\u001b[0m\u001b[0m\n\u001b[0m\u001b[0;32m      2\u001b[0m \u001b[0mdates\u001b[0m\u001b[1;33m.\u001b[0m\u001b[0mappend\u001b[0m\u001b[1;33m(\u001b[0m\u001b[0mfaltantes_fechas\u001b[0m\u001b[1;33m[\u001b[0m\u001b[1;36m14\u001b[0m\u001b[1;33m]\u001b[0m\u001b[1;33m)\u001b[0m\u001b[1;33m\u001b[0m\u001b[1;33m\u001b[0m\u001b[0m\n\u001b[0;32m      3\u001b[0m \u001b[0menlaces\u001b[0m\u001b[1;33m.\u001b[0m\u001b[0mappend\u001b[0m\u001b[1;33m(\u001b[0m\u001b[1;34m'https://es.cointelegraph.com/news/chainlink-launches-price-feeds-on-solana-to-provide-data-to-defi-developers'\u001b[0m\u001b[1;33m)\u001b[0m\u001b[1;33m\u001b[0m\u001b[1;33m\u001b[0m\u001b[0m\n\u001b[0;32m      4\u001b[0m \u001b[0mtitles\u001b[0m\u001b[1;33m.\u001b[0m\u001b[0mappend\u001b[0m\u001b[1;33m(\u001b[0m\u001b[0mb\u001b[0m\u001b[1;33m[\u001b[0m\u001b[1;36m1\u001b[0m\u001b[1;33m]\u001b[0m\u001b[1;33m)\u001b[0m\u001b[1;33m\u001b[0m\u001b[1;33m\u001b[0m\u001b[0m\n\u001b[0;32m      5\u001b[0m \u001b[0mcontents\u001b[0m\u001b[1;33m.\u001b[0m\u001b[0mappend\u001b[0m\u001b[1;33m(\u001b[0m\u001b[0mb\u001b[0m\u001b[1;33m[\u001b[0m\u001b[1;36m0\u001b[0m\u001b[1;33m]\u001b[0m\u001b[1;33m)\u001b[0m\u001b[1;33m\u001b[0m\u001b[1;33m\u001b[0m\u001b[0m\n",
      "\u001b[1;32m<ipython-input-2-b989f239005b>\u001b[0m in \u001b[0;36mread_content_from_url\u001b[1;34m(news_url)\u001b[0m\n\u001b[0;32m      3\u001b[0m \u001b[1;33m\u001b[0m\u001b[0m\n\u001b[0;32m      4\u001b[0m \u001b[1;32mdef\u001b[0m \u001b[0mread_content_from_url\u001b[0m\u001b[1;33m(\u001b[0m\u001b[0mnews_url\u001b[0m\u001b[1;33m)\u001b[0m\u001b[1;33m:\u001b[0m\u001b[1;33m\u001b[0m\u001b[1;33m\u001b[0m\u001b[0m\n\u001b[1;32m----> 5\u001b[1;33m     \u001b[0mdoc\u001b[0m \u001b[1;33m=\u001b[0m \u001b[0mextractor\u001b[0m\u001b[1;33m.\u001b[0m\u001b[0mget_doc_from_url\u001b[0m\u001b[1;33m(\u001b[0m\u001b[0mnews_url\u001b[0m\u001b[1;33m)\u001b[0m\u001b[1;33m\u001b[0m\u001b[1;33m\u001b[0m\u001b[0m\n\u001b[0m\u001b[0;32m      6\u001b[0m     \u001b[0mcontent\u001b[0m \u001b[1;33m=\u001b[0m \u001b[0mdoc\u001b[0m\u001b[1;33m.\u001b[0m\u001b[0mcontent\u001b[0m\u001b[1;33m\u001b[0m\u001b[1;33m\u001b[0m\u001b[0m\n\u001b[0;32m      7\u001b[0m     \u001b[0mtitle\u001b[0m \u001b[1;33m=\u001b[0m \u001b[0mdoc\u001b[0m\u001b[1;33m.\u001b[0m\u001b[0mtitle\u001b[0m\u001b[1;33m\u001b[0m\u001b[1;33m\u001b[0m\u001b[0m\n",
      "\u001b[1;32mc:\\Users\\Germain\\anaconda3\\lib\\site-packages\\boilerpy3\\extractors.py\u001b[0m in \u001b[0;36mget_doc_from_url\u001b[1;34m(self, url, request_kwargs)\u001b[0m\n\u001b[0;32m     58\u001b[0m \u001b[1;33m\u001b[0m\u001b[0m\n\u001b[0;32m     59\u001b[0m     \u001b[1;32mdef\u001b[0m \u001b[0mget_doc_from_url\u001b[0m\u001b[1;33m(\u001b[0m\u001b[0mself\u001b[0m\u001b[1;33m,\u001b[0m \u001b[0murl\u001b[0m\u001b[1;33m:\u001b[0m \u001b[0mstr\u001b[0m\u001b[1;33m,\u001b[0m \u001b[0mrequest_kwargs\u001b[0m\u001b[1;33m:\u001b[0m \u001b[0mdict\u001b[0m \u001b[1;33m=\u001b[0m \u001b[1;32mNone\u001b[0m\u001b[1;33m)\u001b[0m \u001b[1;33m->\u001b[0m \u001b[0mTextDocument\u001b[0m\u001b[1;33m:\u001b[0m\u001b[1;33m\u001b[0m\u001b[1;33m\u001b[0m\u001b[0m\n\u001b[1;32m---> 60\u001b[1;33m         \u001b[1;32mreturn\u001b[0m \u001b[0mself\u001b[0m\u001b[1;33m.\u001b[0m\u001b[0mget_doc\u001b[0m\u001b[1;33m(\u001b[0m\u001b[0mself\u001b[0m\u001b[1;33m.\u001b[0m\u001b[0mread_from_url\u001b[0m\u001b[1;33m(\u001b[0m\u001b[0murl\u001b[0m\u001b[1;33m,\u001b[0m \u001b[0mrequest_kwargs\u001b[0m\u001b[1;33m)\u001b[0m\u001b[1;33m)\u001b[0m\u001b[1;33m\u001b[0m\u001b[1;33m\u001b[0m\u001b[0m\n\u001b[0m\u001b[0;32m     61\u001b[0m \u001b[1;33m\u001b[0m\u001b[0m\n\u001b[0;32m     62\u001b[0m     \u001b[1;32mdef\u001b[0m \u001b[0mget_doc\u001b[0m\u001b[1;33m(\u001b[0m\u001b[0mself\u001b[0m\u001b[1;33m,\u001b[0m \u001b[0mtext\u001b[0m\u001b[1;33m:\u001b[0m \u001b[0mstr\u001b[0m\u001b[1;33m)\u001b[0m \u001b[1;33m->\u001b[0m \u001b[0mTextDocument\u001b[0m\u001b[1;33m:\u001b[0m\u001b[1;33m\u001b[0m\u001b[1;33m\u001b[0m\u001b[0m\n",
      "\u001b[1;32mc:\\Users\\Germain\\anaconda3\\lib\\site-packages\\boilerpy3\\extractors.py\u001b[0m in \u001b[0;36mread_from_url\u001b[1;34m(self, url, request_kwargs)\u001b[0m\n\u001b[0;32m     87\u001b[0m             \u001b[0mall_request_kwargs\u001b[0m\u001b[1;33m.\u001b[0m\u001b[0mupdate\u001b[0m\u001b[1;33m(\u001b[0m\u001b[0mrequest_kwargs\u001b[0m\u001b[1;33m)\u001b[0m\u001b[1;33m\u001b[0m\u001b[1;33m\u001b[0m\u001b[0m\n\u001b[0;32m     88\u001b[0m \u001b[1;33m\u001b[0m\u001b[0m\n\u001b[1;32m---> 89\u001b[1;33m         \u001b[1;32mwith\u001b[0m \u001b[0murllib\u001b[0m\u001b[1;33m.\u001b[0m\u001b[0mrequest\u001b[0m\u001b[1;33m.\u001b[0m\u001b[0murlopen\u001b[0m\u001b[1;33m(\u001b[0m\u001b[0murl\u001b[0m\u001b[1;33m,\u001b[0m \u001b[1;33m**\u001b[0m\u001b[0mall_request_kwargs\u001b[0m\u001b[1;33m)\u001b[0m \u001b[1;32mas\u001b[0m \u001b[0murl_obj\u001b[0m\u001b[1;33m:\u001b[0m\u001b[1;33m\u001b[0m\u001b[1;33m\u001b[0m\u001b[0m\n\u001b[0m\u001b[0;32m     90\u001b[0m             \u001b[0mtext\u001b[0m \u001b[1;33m=\u001b[0m \u001b[0murl_obj\u001b[0m\u001b[1;33m.\u001b[0m\u001b[0mread\u001b[0m\u001b[1;33m(\u001b[0m\u001b[1;33m)\u001b[0m\u001b[1;33m\u001b[0m\u001b[1;33m\u001b[0m\u001b[0m\n\u001b[0;32m     91\u001b[0m             \u001b[0mencoding\u001b[0m \u001b[1;33m=\u001b[0m \u001b[0mself\u001b[0m\u001b[1;33m.\u001b[0m\u001b[0mget_url_encoding\u001b[0m\u001b[1;33m(\u001b[0m\u001b[0murl_obj\u001b[0m\u001b[1;33m)\u001b[0m\u001b[1;33m\u001b[0m\u001b[1;33m\u001b[0m\u001b[0m\n",
      "\u001b[1;32mc:\\Users\\Germain\\anaconda3\\lib\\urllib\\request.py\u001b[0m in \u001b[0;36murlopen\u001b[1;34m(url, data, timeout, cafile, capath, cadefault, context)\u001b[0m\n\u001b[0;32m    220\u001b[0m     \u001b[1;32melse\u001b[0m\u001b[1;33m:\u001b[0m\u001b[1;33m\u001b[0m\u001b[1;33m\u001b[0m\u001b[0m\n\u001b[0;32m    221\u001b[0m         \u001b[0mopener\u001b[0m \u001b[1;33m=\u001b[0m \u001b[0m_opener\u001b[0m\u001b[1;33m\u001b[0m\u001b[1;33m\u001b[0m\u001b[0m\n\u001b[1;32m--> 222\u001b[1;33m     \u001b[1;32mreturn\u001b[0m \u001b[0mopener\u001b[0m\u001b[1;33m.\u001b[0m\u001b[0mopen\u001b[0m\u001b[1;33m(\u001b[0m\u001b[0murl\u001b[0m\u001b[1;33m,\u001b[0m \u001b[0mdata\u001b[0m\u001b[1;33m,\u001b[0m \u001b[0mtimeout\u001b[0m\u001b[1;33m)\u001b[0m\u001b[1;33m\u001b[0m\u001b[1;33m\u001b[0m\u001b[0m\n\u001b[0m\u001b[0;32m    223\u001b[0m \u001b[1;33m\u001b[0m\u001b[0m\n\u001b[0;32m    224\u001b[0m \u001b[1;32mdef\u001b[0m \u001b[0minstall_opener\u001b[0m\u001b[1;33m(\u001b[0m\u001b[0mopener\u001b[0m\u001b[1;33m)\u001b[0m\u001b[1;33m:\u001b[0m\u001b[1;33m\u001b[0m\u001b[1;33m\u001b[0m\u001b[0m\n",
      "\u001b[1;32mc:\\Users\\Germain\\anaconda3\\lib\\urllib\\request.py\u001b[0m in \u001b[0;36mopen\u001b[1;34m(self, fullurl, data, timeout)\u001b[0m\n\u001b[0;32m    529\u001b[0m         \u001b[1;32mfor\u001b[0m \u001b[0mprocessor\u001b[0m \u001b[1;32min\u001b[0m \u001b[0mself\u001b[0m\u001b[1;33m.\u001b[0m\u001b[0mprocess_response\u001b[0m\u001b[1;33m.\u001b[0m\u001b[0mget\u001b[0m\u001b[1;33m(\u001b[0m\u001b[0mprotocol\u001b[0m\u001b[1;33m,\u001b[0m \u001b[1;33m[\u001b[0m\u001b[1;33m]\u001b[0m\u001b[1;33m)\u001b[0m\u001b[1;33m:\u001b[0m\u001b[1;33m\u001b[0m\u001b[1;33m\u001b[0m\u001b[0m\n\u001b[0;32m    530\u001b[0m             \u001b[0mmeth\u001b[0m \u001b[1;33m=\u001b[0m \u001b[0mgetattr\u001b[0m\u001b[1;33m(\u001b[0m\u001b[0mprocessor\u001b[0m\u001b[1;33m,\u001b[0m \u001b[0mmeth_name\u001b[0m\u001b[1;33m)\u001b[0m\u001b[1;33m\u001b[0m\u001b[1;33m\u001b[0m\u001b[0m\n\u001b[1;32m--> 531\u001b[1;33m             \u001b[0mresponse\u001b[0m \u001b[1;33m=\u001b[0m \u001b[0mmeth\u001b[0m\u001b[1;33m(\u001b[0m\u001b[0mreq\u001b[0m\u001b[1;33m,\u001b[0m \u001b[0mresponse\u001b[0m\u001b[1;33m)\u001b[0m\u001b[1;33m\u001b[0m\u001b[1;33m\u001b[0m\u001b[0m\n\u001b[0m\u001b[0;32m    532\u001b[0m \u001b[1;33m\u001b[0m\u001b[0m\n\u001b[0;32m    533\u001b[0m         \u001b[1;32mreturn\u001b[0m \u001b[0mresponse\u001b[0m\u001b[1;33m\u001b[0m\u001b[1;33m\u001b[0m\u001b[0m\n",
      "\u001b[1;32mc:\\Users\\Germain\\anaconda3\\lib\\urllib\\request.py\u001b[0m in \u001b[0;36mhttp_response\u001b[1;34m(self, request, response)\u001b[0m\n\u001b[0;32m    638\u001b[0m         \u001b[1;31m# request was successfully received, understood, and accepted.\u001b[0m\u001b[1;33m\u001b[0m\u001b[1;33m\u001b[0m\u001b[1;33m\u001b[0m\u001b[0m\n\u001b[0;32m    639\u001b[0m         \u001b[1;32mif\u001b[0m \u001b[1;32mnot\u001b[0m \u001b[1;33m(\u001b[0m\u001b[1;36m200\u001b[0m \u001b[1;33m<=\u001b[0m \u001b[0mcode\u001b[0m \u001b[1;33m<\u001b[0m \u001b[1;36m300\u001b[0m\u001b[1;33m)\u001b[0m\u001b[1;33m:\u001b[0m\u001b[1;33m\u001b[0m\u001b[1;33m\u001b[0m\u001b[0m\n\u001b[1;32m--> 640\u001b[1;33m             response = self.parent.error(\n\u001b[0m\u001b[0;32m    641\u001b[0m                 'http', request, response, code, msg, hdrs)\n\u001b[0;32m    642\u001b[0m \u001b[1;33m\u001b[0m\u001b[0m\n",
      "\u001b[1;32mc:\\Users\\Germain\\anaconda3\\lib\\urllib\\request.py\u001b[0m in \u001b[0;36merror\u001b[1;34m(self, proto, *args)\u001b[0m\n\u001b[0;32m    567\u001b[0m         \u001b[1;32mif\u001b[0m \u001b[0mhttp_err\u001b[0m\u001b[1;33m:\u001b[0m\u001b[1;33m\u001b[0m\u001b[1;33m\u001b[0m\u001b[0m\n\u001b[0;32m    568\u001b[0m             \u001b[0margs\u001b[0m \u001b[1;33m=\u001b[0m \u001b[1;33m(\u001b[0m\u001b[0mdict\u001b[0m\u001b[1;33m,\u001b[0m \u001b[1;34m'default'\u001b[0m\u001b[1;33m,\u001b[0m \u001b[1;34m'http_error_default'\u001b[0m\u001b[1;33m)\u001b[0m \u001b[1;33m+\u001b[0m \u001b[0morig_args\u001b[0m\u001b[1;33m\u001b[0m\u001b[1;33m\u001b[0m\u001b[0m\n\u001b[1;32m--> 569\u001b[1;33m             \u001b[1;32mreturn\u001b[0m \u001b[0mself\u001b[0m\u001b[1;33m.\u001b[0m\u001b[0m_call_chain\u001b[0m\u001b[1;33m(\u001b[0m\u001b[1;33m*\u001b[0m\u001b[0margs\u001b[0m\u001b[1;33m)\u001b[0m\u001b[1;33m\u001b[0m\u001b[1;33m\u001b[0m\u001b[0m\n\u001b[0m\u001b[0;32m    570\u001b[0m \u001b[1;33m\u001b[0m\u001b[0m\n\u001b[0;32m    571\u001b[0m \u001b[1;31m# XXX probably also want an abstract factory that knows when it makes\u001b[0m\u001b[1;33m\u001b[0m\u001b[1;33m\u001b[0m\u001b[1;33m\u001b[0m\u001b[0m\n",
      "\u001b[1;32mc:\\Users\\Germain\\anaconda3\\lib\\urllib\\request.py\u001b[0m in \u001b[0;36m_call_chain\u001b[1;34m(self, chain, kind, meth_name, *args)\u001b[0m\n\u001b[0;32m    500\u001b[0m         \u001b[1;32mfor\u001b[0m \u001b[0mhandler\u001b[0m \u001b[1;32min\u001b[0m \u001b[0mhandlers\u001b[0m\u001b[1;33m:\u001b[0m\u001b[1;33m\u001b[0m\u001b[1;33m\u001b[0m\u001b[0m\n\u001b[0;32m    501\u001b[0m             \u001b[0mfunc\u001b[0m \u001b[1;33m=\u001b[0m \u001b[0mgetattr\u001b[0m\u001b[1;33m(\u001b[0m\u001b[0mhandler\u001b[0m\u001b[1;33m,\u001b[0m \u001b[0mmeth_name\u001b[0m\u001b[1;33m)\u001b[0m\u001b[1;33m\u001b[0m\u001b[1;33m\u001b[0m\u001b[0m\n\u001b[1;32m--> 502\u001b[1;33m             \u001b[0mresult\u001b[0m \u001b[1;33m=\u001b[0m \u001b[0mfunc\u001b[0m\u001b[1;33m(\u001b[0m\u001b[1;33m*\u001b[0m\u001b[0margs\u001b[0m\u001b[1;33m)\u001b[0m\u001b[1;33m\u001b[0m\u001b[1;33m\u001b[0m\u001b[0m\n\u001b[0m\u001b[0;32m    503\u001b[0m             \u001b[1;32mif\u001b[0m \u001b[0mresult\u001b[0m \u001b[1;32mis\u001b[0m \u001b[1;32mnot\u001b[0m \u001b[1;32mNone\u001b[0m\u001b[1;33m:\u001b[0m\u001b[1;33m\u001b[0m\u001b[1;33m\u001b[0m\u001b[0m\n\u001b[0;32m    504\u001b[0m                 \u001b[1;32mreturn\u001b[0m \u001b[0mresult\u001b[0m\u001b[1;33m\u001b[0m\u001b[1;33m\u001b[0m\u001b[0m\n",
      "\u001b[1;32mc:\\Users\\Germain\\anaconda3\\lib\\urllib\\request.py\u001b[0m in \u001b[0;36mhttp_error_default\u001b[1;34m(self, req, fp, code, msg, hdrs)\u001b[0m\n\u001b[0;32m    647\u001b[0m \u001b[1;32mclass\u001b[0m \u001b[0mHTTPDefaultErrorHandler\u001b[0m\u001b[1;33m(\u001b[0m\u001b[0mBaseHandler\u001b[0m\u001b[1;33m)\u001b[0m\u001b[1;33m:\u001b[0m\u001b[1;33m\u001b[0m\u001b[1;33m\u001b[0m\u001b[0m\n\u001b[0;32m    648\u001b[0m     \u001b[1;32mdef\u001b[0m \u001b[0mhttp_error_default\u001b[0m\u001b[1;33m(\u001b[0m\u001b[0mself\u001b[0m\u001b[1;33m,\u001b[0m \u001b[0mreq\u001b[0m\u001b[1;33m,\u001b[0m \u001b[0mfp\u001b[0m\u001b[1;33m,\u001b[0m \u001b[0mcode\u001b[0m\u001b[1;33m,\u001b[0m \u001b[0mmsg\u001b[0m\u001b[1;33m,\u001b[0m \u001b[0mhdrs\u001b[0m\u001b[1;33m)\u001b[0m\u001b[1;33m:\u001b[0m\u001b[1;33m\u001b[0m\u001b[1;33m\u001b[0m\u001b[0m\n\u001b[1;32m--> 649\u001b[1;33m         \u001b[1;32mraise\u001b[0m \u001b[0mHTTPError\u001b[0m\u001b[1;33m(\u001b[0m\u001b[0mreq\u001b[0m\u001b[1;33m.\u001b[0m\u001b[0mfull_url\u001b[0m\u001b[1;33m,\u001b[0m \u001b[0mcode\u001b[0m\u001b[1;33m,\u001b[0m \u001b[0mmsg\u001b[0m\u001b[1;33m,\u001b[0m \u001b[0mhdrs\u001b[0m\u001b[1;33m,\u001b[0m \u001b[0mfp\u001b[0m\u001b[1;33m)\u001b[0m\u001b[1;33m\u001b[0m\u001b[1;33m\u001b[0m\u001b[0m\n\u001b[0m\u001b[0;32m    650\u001b[0m \u001b[1;33m\u001b[0m\u001b[0m\n\u001b[0;32m    651\u001b[0m \u001b[1;32mclass\u001b[0m \u001b[0mHTTPRedirectHandler\u001b[0m\u001b[1;33m(\u001b[0m\u001b[0mBaseHandler\u001b[0m\u001b[1;33m)\u001b[0m\u001b[1;33m:\u001b[0m\u001b[1;33m\u001b[0m\u001b[1;33m\u001b[0m\u001b[0m\n",
      "\u001b[1;31mHTTPError\u001b[0m: HTTP Error 404: Not Found"
     ]
    }
   ],
   "source": [
    "b = read_content_from_url('https://es.cointelegraph.com/news/chainlink-launches-price-feeds-on-solana-to-provide-data-to-defi-developers')\n",
    "dates.append(faltantes_fechas[14])\n",
    "enlaces.append('https://es.cointelegraph.com/news/chainlink-launches-price-feeds-on-solana-to-provide-data-to-defi-developers')\n",
    "titles.append(b[1])\n",
    "contents.append(b[0])"
   ]
  },
  {
   "cell_type": "code",
   "execution_count": 10,
   "metadata": {},
   "outputs": [],
   "source": [
    "faltante = pd.DataFrame({\n",
    "    'Enlace': enlaces,\n",
    "    'Titulo': titles,\n",
    "    'Cuerpo': contents,\n",
    "    'Fecha': dates\n",
    "})\n",
    "faltante.to_csv('faltante.csv')"
   ]
  }
 ],
 "metadata": {
  "kernelspec": {
   "display_name": "Python 3.8.5 ('base')",
   "language": "python",
   "name": "python3"
  },
  "language_info": {
   "codemirror_mode": {
    "name": "ipython",
    "version": 3
   },
   "file_extension": ".py",
   "mimetype": "text/x-python",
   "name": "python",
   "nbconvert_exporter": "python",
   "pygments_lexer": "ipython3",
   "version": "3.8.5"
  },
  "orig_nbformat": 4,
  "vscode": {
   "interpreter": {
    "hash": "bf2d4fae2dd7f9d0a1cb92fe5a57ae32bb8cac3d6e2203bb2bd58a3e2ed832c0"
   }
  }
 },
 "nbformat": 4,
 "nbformat_minor": 2
}
