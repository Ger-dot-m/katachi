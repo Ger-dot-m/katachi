{
 "cells": [
  {
   "cell_type": "markdown",
   "metadata": {},
   "source": [
    "# Método\n",
    "Para poder usar los datos de las noticias, se usará sólo el contenido de la noticia. Luego la fecha será usada para hacer coincidir el cambio del precio con la noticia. <br>\n",
    "En el archivo de noticias, se tienen varias del mismo día, por lo que las que compartan fecha se mezclaran en una sóla. <br>\n",
    "Por otra parte, el archivo del Bitcoin será usado para ver si ese día hubo un aumento o decremento en su valor."
   ]
  },
  {
   "cell_type": "markdown",
   "metadata": {},
   "source": [
    "## Archivo de noticias"
   ]
  },
  {
   "cell_type": "code",
   "execution_count": 109,
   "metadata": {},
   "outputs": [],
   "source": [
    "import pandas as pd\n",
    "a_1 = pd.read_csv('faltante.csv')\n",
    "a_2 = pd.read_csv('news_data.csv')"
   ]
  },
  {
   "cell_type": "code",
   "execution_count": 110,
   "metadata": {},
   "outputs": [
    {
     "name": "stdout",
     "output_type": "stream",
     "text": [
      "(15, 5) (1102, 5)\n"
     ]
    }
   ],
   "source": [
    "print(a_1.shape, a_2.shape)"
   ]
  },
  {
   "cell_type": "code",
   "execution_count": 111,
   "metadata": {},
   "outputs": [
    {
     "data": {
      "text/plain": [
       "(1117, 4)"
      ]
     },
     "execution_count": 111,
     "metadata": {},
     "output_type": "execute_result"
    }
   ],
   "source": [
    "a_1 = a_1.drop('i', axis=1)\n",
    "a_2 = a_2.drop('i', axis=1)\n",
    "data = pd.concat([a_1, a_2])\n",
    "data.shape"
   ]
  },
  {
   "cell_type": "code",
   "execution_count": 112,
   "metadata": {},
   "outputs": [
    {
     "data": {
      "text/plain": [
       "Index(['Enlace', 'Titulo', 'Cuerpo', 'Fecha'], dtype='object')"
      ]
     },
     "execution_count": 112,
     "metadata": {},
     "output_type": "execute_result"
    }
   ],
   "source": [
    "data.columns"
   ]
  },
  {
   "cell_type": "code",
   "execution_count": 113,
   "metadata": {},
   "outputs": [
    {
     "data": {
      "text/html": [
       "<div>\n",
       "<style scoped>\n",
       "    .dataframe tbody tr th:only-of-type {\n",
       "        vertical-align: middle;\n",
       "    }\n",
       "\n",
       "    .dataframe tbody tr th {\n",
       "        vertical-align: top;\n",
       "    }\n",
       "\n",
       "    .dataframe thead th {\n",
       "        text-align: right;\n",
       "    }\n",
       "</style>\n",
       "<table border=\"1\" class=\"dataframe\">\n",
       "  <thead>\n",
       "    <tr style=\"text-align: right;\">\n",
       "      <th></th>\n",
       "      <th>Cuerpo</th>\n",
       "      <th>Fecha</th>\n",
       "    </tr>\n",
       "  </thead>\n",
       "  <tbody>\n",
       "    <tr>\n",
       "      <th>0</th>\n",
       "      <td>Panamá fue sede de actualización, discusiones ...</td>\n",
       "      <td>12.07.2022</td>\n",
       "    </tr>\n",
       "    <tr>\n",
       "      <th>1</th>\n",
       "      <td>Arijit Sarkar\\n09 Jul 2022\\nLa baja en el prec...</td>\n",
       "      <td>10.07.2022</td>\n",
       "    </tr>\n",
       "    <tr>\n",
       "      <th>2</th>\n",
       "      <td>Yashu Gola\\n06 Jul 2022\\nLas acciones mineras ...</td>\n",
       "      <td>06.07.2022</td>\n",
       "    </tr>\n",
       "    <tr>\n",
       "      <th>3</th>\n",
       "      <td>William Suberg\\n30 Jun 2022\\nEl precio de bitc...</td>\n",
       "      <td>30.06.2022</td>\n",
       "    </tr>\n",
       "    <tr>\n",
       "      <th>4</th>\n",
       "      <td>Zhiyuan Sun\\n29 Jun 2022\\nLa empresa de minerí...</td>\n",
       "      <td>29.06.2022</td>\n",
       "    </tr>\n",
       "  </tbody>\n",
       "</table>\n",
       "</div>"
      ],
      "text/plain": [
       "                                              Cuerpo       Fecha\n",
       "0  Panamá fue sede de actualización, discusiones ...  12.07.2022\n",
       "1  Arijit Sarkar\\n09 Jul 2022\\nLa baja en el prec...  10.07.2022\n",
       "2  Yashu Gola\\n06 Jul 2022\\nLas acciones mineras ...  06.07.2022\n",
       "3  William Suberg\\n30 Jun 2022\\nEl precio de bitc...  30.06.2022\n",
       "4  Zhiyuan Sun\\n29 Jun 2022\\nLa empresa de minerí...  29.06.2022"
      ]
     },
     "execution_count": 113,
     "metadata": {},
     "output_type": "execute_result"
    }
   ],
   "source": [
    "data = data.drop(['Enlace', 'Titulo'], axis=1)\n",
    "data.head()"
   ]
  },
  {
   "cell_type": "markdown",
   "metadata": {},
   "source": [
    "### Cambiando formato de fecha"
   ]
  },
  {
   "cell_type": "code",
   "execution_count": 114,
   "metadata": {},
   "outputs": [],
   "source": [
    "def format(fecha):\n",
    "    # Ejemplo:\n",
    "    #   12.07.2022 -> 2022-07-12\n",
    "    a = fecha.split('.')\n",
    "    if len(a)>1:\n",
    "        return '{}-{}-{}'.format(a[-1],a[1],a[0])\n",
    "    else:\n",
    "        # La fecha de hoy, en caso de encontrarse un 'Hace'\n",
    "        return '2022-07-16'"
   ]
  },
  {
   "cell_type": "code",
   "execution_count": 115,
   "metadata": {},
   "outputs": [
    {
     "data": {
      "text/html": [
       "<div>\n",
       "<style scoped>\n",
       "    .dataframe tbody tr th:only-of-type {\n",
       "        vertical-align: middle;\n",
       "    }\n",
       "\n",
       "    .dataframe tbody tr th {\n",
       "        vertical-align: top;\n",
       "    }\n",
       "\n",
       "    .dataframe thead th {\n",
       "        text-align: right;\n",
       "    }\n",
       "</style>\n",
       "<table border=\"1\" class=\"dataframe\">\n",
       "  <thead>\n",
       "    <tr style=\"text-align: right;\">\n",
       "      <th></th>\n",
       "      <th>Cuerpo</th>\n",
       "      <th>Fecha</th>\n",
       "    </tr>\n",
       "  </thead>\n",
       "  <tbody>\n",
       "    <tr>\n",
       "      <th>0</th>\n",
       "      <td>Panamá fue sede de actualización, discusiones ...</td>\n",
       "      <td>2022-07-12</td>\n",
       "    </tr>\n",
       "    <tr>\n",
       "      <th>1</th>\n",
       "      <td>Arijit Sarkar\\n09 Jul 2022\\nLa baja en el prec...</td>\n",
       "      <td>2022-07-10</td>\n",
       "    </tr>\n",
       "    <tr>\n",
       "      <th>2</th>\n",
       "      <td>Yashu Gola\\n06 Jul 2022\\nLas acciones mineras ...</td>\n",
       "      <td>2022-07-06</td>\n",
       "    </tr>\n",
       "    <tr>\n",
       "      <th>3</th>\n",
       "      <td>William Suberg\\n30 Jun 2022\\nEl precio de bitc...</td>\n",
       "      <td>2022-06-30</td>\n",
       "    </tr>\n",
       "    <tr>\n",
       "      <th>4</th>\n",
       "      <td>Zhiyuan Sun\\n29 Jun 2022\\nLa empresa de minerí...</td>\n",
       "      <td>2022-06-29</td>\n",
       "    </tr>\n",
       "  </tbody>\n",
       "</table>\n",
       "</div>"
      ],
      "text/plain": [
       "                                              Cuerpo       Fecha\n",
       "0  Panamá fue sede de actualización, discusiones ...  2022-07-12\n",
       "1  Arijit Sarkar\\n09 Jul 2022\\nLa baja en el prec...  2022-07-10\n",
       "2  Yashu Gola\\n06 Jul 2022\\nLas acciones mineras ...  2022-07-06\n",
       "3  William Suberg\\n30 Jun 2022\\nEl precio de bitc...  2022-06-30\n",
       "4  Zhiyuan Sun\\n29 Jun 2022\\nLa empresa de minerí...  2022-06-29"
      ]
     },
     "execution_count": 115,
     "metadata": {},
     "output_type": "execute_result"
    }
   ],
   "source": [
    "data['Fecha'] = data['Fecha'].apply(format)\n",
    "data.head()"
   ]
  },
  {
   "cell_type": "markdown",
   "metadata": {},
   "source": [
    "### Se juntarán las notas con la misma fecha"
   ]
  },
  {
   "cell_type": "code",
   "execution_count": 116,
   "metadata": {},
   "outputs": [],
   "source": [
    "aux = data.groupby('Fecha')"
   ]
  },
  {
   "cell_type": "code",
   "execution_count": 117,
   "metadata": {},
   "outputs": [
    {
     "data": {
      "text/html": [
       "<div>\n",
       "<style scoped>\n",
       "    .dataframe tbody tr th:only-of-type {\n",
       "        vertical-align: middle;\n",
       "    }\n",
       "\n",
       "    .dataframe tbody tr th {\n",
       "        vertical-align: top;\n",
       "    }\n",
       "\n",
       "    .dataframe thead th {\n",
       "        text-align: right;\n",
       "    }\n",
       "</style>\n",
       "<table border=\"1\" class=\"dataframe\">\n",
       "  <thead>\n",
       "    <tr style=\"text-align: right;\">\n",
       "      <th></th>\n",
       "      <th>Texto</th>\n",
       "      <th>Fecha</th>\n",
       "    </tr>\n",
       "  </thead>\n",
       "  <tbody>\n",
       "    <tr>\n",
       "      <th>0</th>\n",
       "      <td>Panamá fue sede de actualización, discusiones ...</td>\n",
       "      <td>2022-07-12</td>\n",
       "    </tr>\n",
       "    <tr>\n",
       "      <th>1</th>\n",
       "      <td>Arijit Sarkar\\n09 Jul 2022\\nLa baja en el prec...</td>\n",
       "      <td>2022-07-10</td>\n",
       "    </tr>\n",
       "    <tr>\n",
       "      <th>2</th>\n",
       "      <td>Yashu Gola\\n06 Jul 2022\\nLas acciones mineras ...</td>\n",
       "      <td>2022-07-06</td>\n",
       "    </tr>\n",
       "    <tr>\n",
       "      <th>3</th>\n",
       "      <td>William Suberg\\n30 Jun 2022\\nEl precio de bitc...</td>\n",
       "      <td>2022-06-30</td>\n",
       "    </tr>\n",
       "    <tr>\n",
       "      <th>4</th>\n",
       "      <td>Zhiyuan Sun\\n29 Jun 2022\\nLa empresa de minerí...</td>\n",
       "      <td>2022-06-29</td>\n",
       "    </tr>\n",
       "  </tbody>\n",
       "</table>\n",
       "</div>"
      ],
      "text/plain": [
       "                                               Texto       Fecha\n",
       "0  Panamá fue sede de actualización, discusiones ...  2022-07-12\n",
       "1  Arijit Sarkar\\n09 Jul 2022\\nLa baja en el prec...  2022-07-10\n",
       "2  Yashu Gola\\n06 Jul 2022\\nLas acciones mineras ...  2022-07-06\n",
       "3  William Suberg\\n30 Jun 2022\\nEl precio de bitc...  2022-06-30\n",
       "4  Zhiyuan Sun\\n29 Jun 2022\\nLa empresa de minerí...  2022-06-29"
      ]
     },
     "execution_count": 117,
     "metadata": {},
     "output_type": "execute_result"
    }
   ],
   "source": [
    "notas, fechas = [], []\n",
    "for fecha in data['Fecha'].unique():\n",
    "    nota = ''\n",
    "    for text in aux.get_group(fecha)['Cuerpo']:\n",
    "        nota += str(text)\n",
    "    notas.append(nota)\n",
    "    fechas.append(fecha)\n",
    "data_aux = pd.DataFrame({'Texto': notas, 'Fecha': fechas})\n",
    "data_aux.head()"
   ]
  },
  {
   "cell_type": "markdown",
   "metadata": {},
   "source": [
    "## Archivo de Bitcoin"
   ]
  },
  {
   "cell_type": "code",
   "execution_count": 118,
   "metadata": {},
   "outputs": [
    {
     "data": {
      "text/html": [
       "<div>\n",
       "<style scoped>\n",
       "    .dataframe tbody tr th:only-of-type {\n",
       "        vertical-align: middle;\n",
       "    }\n",
       "\n",
       "    .dataframe tbody tr th {\n",
       "        vertical-align: top;\n",
       "    }\n",
       "\n",
       "    .dataframe thead th {\n",
       "        text-align: right;\n",
       "    }\n",
       "</style>\n",
       "<table border=\"1\" class=\"dataframe\">\n",
       "  <thead>\n",
       "    <tr style=\"text-align: right;\">\n",
       "      <th></th>\n",
       "      <th>Date</th>\n",
       "      <th>Open</th>\n",
       "      <th>High</th>\n",
       "      <th>Low</th>\n",
       "      <th>Close</th>\n",
       "      <th>Adj Close</th>\n",
       "      <th>Volume</th>\n",
       "    </tr>\n",
       "  </thead>\n",
       "  <tbody>\n",
       "    <tr>\n",
       "      <th>0</th>\n",
       "      <td>2022-04-01</td>\n",
       "      <td>45554.164063</td>\n",
       "      <td>46616.242188</td>\n",
       "      <td>44403.140625</td>\n",
       "      <td>46281.644531</td>\n",
       "      <td>46281.644531</td>\n",
       "      <td>3.816264e+10</td>\n",
       "    </tr>\n",
       "    <tr>\n",
       "      <th>1</th>\n",
       "      <td>2022-04-02</td>\n",
       "      <td>46285.500000</td>\n",
       "      <td>47028.281250</td>\n",
       "      <td>45782.511719</td>\n",
       "      <td>45868.949219</td>\n",
       "      <td>45868.949219</td>\n",
       "      <td>2.933659e+10</td>\n",
       "    </tr>\n",
       "    <tr>\n",
       "      <th>2</th>\n",
       "      <td>2022-04-03</td>\n",
       "      <td>45859.128906</td>\n",
       "      <td>47313.476563</td>\n",
       "      <td>45634.105469</td>\n",
       "      <td>46453.566406</td>\n",
       "      <td>46453.566406</td>\n",
       "      <td>2.541440e+10</td>\n",
       "    </tr>\n",
       "    <tr>\n",
       "      <th>3</th>\n",
       "      <td>2022-04-04</td>\n",
       "      <td>46445.273438</td>\n",
       "      <td>46791.089844</td>\n",
       "      <td>45235.816406</td>\n",
       "      <td>46622.675781</td>\n",
       "      <td>46622.675781</td>\n",
       "      <td>3.249979e+10</td>\n",
       "    </tr>\n",
       "    <tr>\n",
       "      <th>4</th>\n",
       "      <td>2022-04-05</td>\n",
       "      <td>46624.507813</td>\n",
       "      <td>47106.140625</td>\n",
       "      <td>45544.808594</td>\n",
       "      <td>45555.992188</td>\n",
       "      <td>45555.992188</td>\n",
       "      <td>2.964060e+10</td>\n",
       "    </tr>\n",
       "  </tbody>\n",
       "</table>\n",
       "</div>"
      ],
      "text/plain": [
       "         Date          Open          High           Low         Close  \\\n",
       "0  2022-04-01  45554.164063  46616.242188  44403.140625  46281.644531   \n",
       "1  2022-04-02  46285.500000  47028.281250  45782.511719  45868.949219   \n",
       "2  2022-04-03  45859.128906  47313.476563  45634.105469  46453.566406   \n",
       "3  2022-04-04  46445.273438  46791.089844  45235.816406  46622.675781   \n",
       "4  2022-04-05  46624.507813  47106.140625  45544.808594  45555.992188   \n",
       "\n",
       "      Adj Close        Volume  \n",
       "0  46281.644531  3.816264e+10  \n",
       "1  45868.949219  2.933659e+10  \n",
       "2  46453.566406  2.541440e+10  \n",
       "3  46622.675781  3.249979e+10  \n",
       "4  45555.992188  2.964060e+10  "
      ]
     },
     "execution_count": 118,
     "metadata": {},
     "output_type": "execute_result"
    }
   ],
   "source": [
    "prices = pd.read_csv('BTC-USD.csv')\n",
    "prices.head()"
   ]
  },
  {
   "cell_type": "code",
   "execution_count": 119,
   "metadata": {},
   "outputs": [
    {
     "data": {
      "text/html": [
       "<div>\n",
       "<style scoped>\n",
       "    .dataframe tbody tr th:only-of-type {\n",
       "        vertical-align: middle;\n",
       "    }\n",
       "\n",
       "    .dataframe tbody tr th {\n",
       "        vertical-align: top;\n",
       "    }\n",
       "\n",
       "    .dataframe thead th {\n",
       "        text-align: right;\n",
       "    }\n",
       "</style>\n",
       "<table border=\"1\" class=\"dataframe\">\n",
       "  <thead>\n",
       "    <tr style=\"text-align: right;\">\n",
       "      <th></th>\n",
       "      <th>Date</th>\n",
       "      <th>Open</th>\n",
       "      <th>Close</th>\n",
       "      <th>class</th>\n",
       "    </tr>\n",
       "  </thead>\n",
       "  <tbody>\n",
       "    <tr>\n",
       "      <th>0</th>\n",
       "      <td>2022-04-01</td>\n",
       "      <td>45554.164063</td>\n",
       "      <td>46281.644531</td>\n",
       "      <td>0</td>\n",
       "    </tr>\n",
       "    <tr>\n",
       "      <th>1</th>\n",
       "      <td>2022-04-02</td>\n",
       "      <td>46285.500000</td>\n",
       "      <td>45868.949219</td>\n",
       "      <td>0</td>\n",
       "    </tr>\n",
       "    <tr>\n",
       "      <th>2</th>\n",
       "      <td>2022-04-03</td>\n",
       "      <td>45859.128906</td>\n",
       "      <td>46453.566406</td>\n",
       "      <td>0</td>\n",
       "    </tr>\n",
       "    <tr>\n",
       "      <th>3</th>\n",
       "      <td>2022-04-04</td>\n",
       "      <td>46445.273438</td>\n",
       "      <td>46622.675781</td>\n",
       "      <td>0</td>\n",
       "    </tr>\n",
       "    <tr>\n",
       "      <th>4</th>\n",
       "      <td>2022-04-05</td>\n",
       "      <td>46624.507813</td>\n",
       "      <td>45555.992188</td>\n",
       "      <td>0</td>\n",
       "    </tr>\n",
       "  </tbody>\n",
       "</table>\n",
       "</div>"
      ],
      "text/plain": [
       "         Date          Open         Close  class\n",
       "0  2022-04-01  45554.164063  46281.644531      0\n",
       "1  2022-04-02  46285.500000  45868.949219      0\n",
       "2  2022-04-03  45859.128906  46453.566406      0\n",
       "3  2022-04-04  46445.273438  46622.675781      0\n",
       "4  2022-04-05  46624.507813  45555.992188      0"
      ]
     },
     "execution_count": 119,
     "metadata": {},
     "output_type": "execute_result"
    }
   ],
   "source": [
    "prices = prices.drop(['High', 'Low', 'Adj Close', 'Volume'], axis=1)\n",
    "prices['class'] = 0\n",
    "prices.head()"
   ]
  },
  {
   "cell_type": "code",
   "execution_count": 120,
   "metadata": {},
   "outputs": [],
   "source": [
    "def cambio(open, close):\n",
    "    if close - open >= 0:\n",
    "        return 1\n",
    "    else:\n",
    "        return 0"
   ]
  },
  {
   "cell_type": "markdown",
   "metadata": {},
   "source": [
    "### Generando clasificación"
   ]
  },
  {
   "cell_type": "code",
   "execution_count": 121,
   "metadata": {},
   "outputs": [
    {
     "data": {
      "text/html": [
       "<div>\n",
       "<style scoped>\n",
       "    .dataframe tbody tr th:only-of-type {\n",
       "        vertical-align: middle;\n",
       "    }\n",
       "\n",
       "    .dataframe tbody tr th {\n",
       "        vertical-align: top;\n",
       "    }\n",
       "\n",
       "    .dataframe thead th {\n",
       "        text-align: right;\n",
       "    }\n",
       "</style>\n",
       "<table border=\"1\" class=\"dataframe\">\n",
       "  <thead>\n",
       "    <tr style=\"text-align: right;\">\n",
       "      <th></th>\n",
       "      <th>Date</th>\n",
       "      <th>class</th>\n",
       "    </tr>\n",
       "  </thead>\n",
       "  <tbody>\n",
       "    <tr>\n",
       "      <th>0</th>\n",
       "      <td>2022-04-01</td>\n",
       "      <td>1</td>\n",
       "    </tr>\n",
       "    <tr>\n",
       "      <th>1</th>\n",
       "      <td>2022-04-02</td>\n",
       "      <td>0</td>\n",
       "    </tr>\n",
       "    <tr>\n",
       "      <th>2</th>\n",
       "      <td>2022-04-03</td>\n",
       "      <td>1</td>\n",
       "    </tr>\n",
       "    <tr>\n",
       "      <th>3</th>\n",
       "      <td>2022-04-04</td>\n",
       "      <td>1</td>\n",
       "    </tr>\n",
       "    <tr>\n",
       "      <th>4</th>\n",
       "      <td>2022-04-05</td>\n",
       "      <td>0</td>\n",
       "    </tr>\n",
       "  </tbody>\n",
       "</table>\n",
       "</div>"
      ],
      "text/plain": [
       "         Date  class\n",
       "0  2022-04-01      1\n",
       "1  2022-04-02      0\n",
       "2  2022-04-03      1\n",
       "3  2022-04-04      1\n",
       "4  2022-04-05      0"
      ]
     },
     "execution_count": 121,
     "metadata": {},
     "output_type": "execute_result"
    }
   ],
   "source": [
    "prices['class'] = prices.apply(lambda x: cambio(x['Open'], x['Close']), axis=1)\n",
    "prices = prices.drop(['Open','Close'],axis=1)\n",
    "prices.head()"
   ]
  },
  {
   "cell_type": "code",
   "execution_count": 122,
   "metadata": {},
   "outputs": [
    {
     "name": "stdout",
     "output_type": "stream",
     "text": [
      "(107, 2) (107, 2)\n"
     ]
    }
   ],
   "source": [
    "print(prices.shape, data_aux.shape)"
   ]
  },
  {
   "cell_type": "markdown",
   "metadata": {},
   "source": [
    "## Se juntan ambas tablas mediante las fechas"
   ]
  },
  {
   "cell_type": "code",
   "execution_count": 123,
   "metadata": {},
   "outputs": [
    {
     "data": {
      "text/html": [
       "<div>\n",
       "<style scoped>\n",
       "    .dataframe tbody tr th:only-of-type {\n",
       "        vertical-align: middle;\n",
       "    }\n",
       "\n",
       "    .dataframe tbody tr th {\n",
       "        vertical-align: top;\n",
       "    }\n",
       "\n",
       "    .dataframe thead th {\n",
       "        text-align: right;\n",
       "    }\n",
       "</style>\n",
       "<table border=\"1\" class=\"dataframe\">\n",
       "  <thead>\n",
       "    <tr style=\"text-align: right;\">\n",
       "      <th></th>\n",
       "      <th>Texto</th>\n",
       "      <th>class</th>\n",
       "    </tr>\n",
       "  </thead>\n",
       "  <tbody>\n",
       "    <tr>\n",
       "      <th>0</th>\n",
       "      <td>Panamá fue sede de actualización, discusiones ...</td>\n",
       "      <td>0</td>\n",
       "    </tr>\n",
       "    <tr>\n",
       "      <th>1</th>\n",
       "      <td>Arijit Sarkar\\n09 Jul 2022\\nLa baja en el prec...</td>\n",
       "      <td>0</td>\n",
       "    </tr>\n",
       "    <tr>\n",
       "      <th>2</th>\n",
       "      <td>Yashu Gola\\n06 Jul 2022\\nLas acciones mineras ...</td>\n",
       "      <td>1</td>\n",
       "    </tr>\n",
       "    <tr>\n",
       "      <th>3</th>\n",
       "      <td>William Suberg\\n30 Jun 2022\\nEl precio de bitc...</td>\n",
       "      <td>0</td>\n",
       "    </tr>\n",
       "    <tr>\n",
       "      <th>4</th>\n",
       "      <td>Zhiyuan Sun\\n29 Jun 2022\\nLa empresa de minerí...</td>\n",
       "      <td>0</td>\n",
       "    </tr>\n",
       "  </tbody>\n",
       "</table>\n",
       "</div>"
      ],
      "text/plain": [
       "                                               Texto  class\n",
       "0  Panamá fue sede de actualización, discusiones ...      0\n",
       "1  Arijit Sarkar\\n09 Jul 2022\\nLa baja en el prec...      0\n",
       "2  Yashu Gola\\n06 Jul 2022\\nLas acciones mineras ...      1\n",
       "3  William Suberg\\n30 Jun 2022\\nEl precio de bitc...      0\n",
       "4  Zhiyuan Sun\\n29 Jun 2022\\nLa empresa de minerí...      0"
      ]
     },
     "execution_count": 123,
     "metadata": {},
     "output_type": "execute_result"
    }
   ],
   "source": [
    "data_aux['class'] = data_aux['Fecha'].map(prices.set_index('Date')['class'])\n",
    "data_aux = data_aux.drop(['Fecha'],axis=1)\n",
    "data_aux.head()"
   ]
  },
  {
   "cell_type": "code",
   "execution_count": 127,
   "metadata": {},
   "outputs": [],
   "source": [
    "data_aux.to_csv('Datos.csv')"
   ]
  }
 ],
 "metadata": {
  "kernelspec": {
   "display_name": "Python 3.8.5 ('base')",
   "language": "python",
   "name": "python3"
  },
  "language_info": {
   "codemirror_mode": {
    "name": "ipython",
    "version": 3
   },
   "file_extension": ".py",
   "mimetype": "text/x-python",
   "name": "python",
   "nbconvert_exporter": "python",
   "pygments_lexer": "ipython3",
   "version": "3.8.5"
  },
  "orig_nbformat": 4,
  "vscode": {
   "interpreter": {
    "hash": "bf2d4fae2dd7f9d0a1cb92fe5a57ae32bb8cac3d6e2203bb2bd58a3e2ed832c0"
   }
  }
 },
 "nbformat": 4,
 "nbformat_minor": 2
}
